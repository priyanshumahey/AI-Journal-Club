{
 "cells": [
  {
   "attachments": {},
   "cell_type": "markdown",
   "metadata": {},
   "source": [
    "# Convolutional Networks"
   ]
  },
  {
   "attachments": {},
   "cell_type": "markdown",
   "metadata": {},
   "source": [
    "**Convolutional networks** also known as CNNs, are specialized neural networks for processing data that has a known grid-like topology. Convolutional networks are simply neural networks that use convolution in place of general matrix multiplication in at least one of their layers. A **convolution** is a specialized kind of liner operation and this lesson will go in depth as to what exactly a convolution is. Convolutional neural networks are very commonly used for image recognition."
   ]
  },
  {
   "attachments": {},
   "cell_type": "markdown",
   "metadata": {},
   "source": [
    "## Invariance"
   ]
  },
  {
   "attachments": {},
   "cell_type": "markdown",
   "metadata": {},
   "source": [
    "CNNs systematize the idea of spatial invariance and exploit it to learn useful representations with fewer parameters. Spatial invariance is the idea that if we are looking for a certain feature in an image, it doesn't matter where in the image that feature is located. For example, if we are looking for a cat in an image, it doesn't matter where in the image the cat is located. This is a very useful property for image recognition because it allows us to use the same weights to detect the same feature in different parts of the image.\n",
    "\n",
    "There a couple of important design considerations we should take in:\n",
    "1. In earliest layers, the network should respond similarly to the same feature regardless of where it appears in the image. This is called **translation invariance**.\n",
    "2. The earliest layers should focus on local regions without regard for contents elsewhere in the image. This is called **locality**. Eventually the network should be able to combine local features into global features.\n",
    "3. The deeper layers should be able to capture longer-range features of the image, in a way similar to higher level vision in nature.\n"
   ]
  },
  {
   "attachments": {},
   "cell_type": "markdown",
   "metadata": {},
   "source": [
    "## Convolutions\n",
    "\n",
    "In math, a convolution between two functions is:\n",
    "\n",
    "$$ (f * g)(t) = \\int_{-\\infty}^{\\infty} f(\\tau)g(t-\\tau) d\\tau $$"
   ]
  },
  {
   "attachments": {},
   "cell_type": "markdown",
   "metadata": {},
   "source": [
    "The convolution operation is typically denoted with an asterisk as shown above. In CNN terms, the first argument which here is $f$ is the input and the second is what we call the kernel. The output of this is sometimes referred to as the feature map. The convolution operation is a linear operation that preserves the order of the inputs. The convolution operation is commutative, meaning that $f * g = g * f$. The convolution operation is also associative, meaning that $f * (g * h) = (f * g) * h$. The convolution operation is also distributive, meaning that $f * (g + h) = f * g + f * h$.\n",
    "\n",
    "The convolution operation measures the overlap between $f$ and $g$ when one function is \"flipped\" and shifted by x. The convolution operation is used in signal processing to measure the similarity between two signals that are shifted by some amount. The convolution operation is also used in probability theory to measure the probability of two independent events occurring at the same time."
   ]
  },
  {
   "attachments": {},
   "cell_type": "markdown",
   "metadata": {},
   "source": [
    "![Convolutional Neural Network](https://miro.medium.com/v2/resize:fit:720/1*32zCSTBi3giSApz1oQV-zA.gif)"
   ]
  },
  {
   "attachments": {},
   "cell_type": "markdown",
   "metadata": {},
   "source": [
    "Whenever we have discrete objects, we can turn the integrals into sums. For instance, the convolution of two vectors $f$ and $g$ is:"
   ]
  },
  {
   "attachments": {},
   "cell_type": "markdown",
   "metadata": {},
   "source": [
    "$$ (f * g)[n] = \\sum_{m=-\\infty}^{\\infty} f[m]g[n-m] $$"
   ]
  },
  {
   "attachments": {},
   "cell_type": "markdown",
   "metadata": {},
   "source": [
    "For two-dimensional images, the convolution operation is:"
   ]
  },
  {
   "attachments": {},
   "cell_type": "markdown",
   "metadata": {},
   "source": [
    "$$ \n",
    "(f * g)[i,j] = \\sum_{m} \\sum_{n} f[m,n]g[i-m,j-n] \n",
    "$$"
   ]
  },
  {
   "attachments": {},
   "cell_type": "markdown",
   "metadata": {},
   "source": [
    "Convolutional is commutative meaning that we can also write:"
   ]
  },
  {
   "attachments": {},
   "cell_type": "markdown",
   "metadata": {},
   "source": [
    "$$\n",
    "(f * g)[i,j] = \\sum_{m} \\sum_{n} f[i-m,j-n]g[m,n]\n",
    "$$"
   ]
  },
  {
   "attachments": {},
   "cell_type": "markdown",
   "metadata": {},
   "source": [
    "## Cross Correlation"
   ]
  },
  {
   "attachments": {},
   "cell_type": "markdown",
   "metadata": {},
   "source": [
    "**Cross-correlation** is also another thing that is commonly applied. Cross-correlation is the same as convolution except that the kernel is not flipped. So this means that it takes the formula:"
   ]
  },
  {
   "attachments": {},
   "cell_type": "markdown",
   "metadata": {},
   "source": [
    "$$\n",
    "(f * g)[i,j] = \\sum_{m} \\sum_{n} f[m,n]g[i+m,j+n]\n",
    "$$"
   ]
  },
  {
   "attachments": {},
   "cell_type": "markdown",
   "metadata": {},
   "source": [
    "Sometimes this is used interchangeably so pay attention to the context and pay attention to when we say the kernel is flipped."
   ]
  },
  {
   "attachments": {},
   "cell_type": "markdown",
   "metadata": {},
   "source": [
    "Below is a two-dimensional tensor with a height of 3 and width of 3. The kernel is a 2x2 matrix. The shape of the kernel window (or convolutional window) is given by the height and width of the kernel. The kernel window is slid across the input tensor and the dot product is taken between the kernel and the input tensor at each position. The output of this is a 2x2 matrix."
   ]
  },
  {
   "attachments": {},
   "cell_type": "markdown",
   "metadata": {},
   "source": [
    "![Convolutional Neural Network](https://d2l.ai/_images/correlation.svg)"
   ]
  }
 ],
 "metadata": {
  "language_info": {
   "name": "python"
  },
  "orig_nbformat": 4
 },
 "nbformat": 4,
 "nbformat_minor": 2
}
