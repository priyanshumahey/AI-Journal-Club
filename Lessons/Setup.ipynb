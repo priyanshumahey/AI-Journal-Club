{
 "cells": [
  {
   "cell_type": "markdown",
   "metadata": {},
   "source": [
    "# Set Up"
   ]
  },
  {
   "cell_type": "markdown",
   "metadata": {},
   "source": [
    "If this is your first time using anything related to deep learning and Python, this will be a good notebook to walk through everything necessary for this set-up. It goes from the very basics of setting up Python to setting up the DL libaries."
   ]
  },
  {
   "cell_type": "markdown",
   "metadata": {},
   "source": [
    "---"
   ]
  },
  {
   "cell_type": "markdown",
   "metadata": {},
   "source": [
    "## Python"
   ]
  },
  {
   "cell_type": "markdown",
   "metadata": {},
   "source": [
    "Python is highly important to data science and machine learning. It has many different usages in sciences and here we'll be primarily focusing on using it for machine learning purposes. \n",
    "\n",
    "A few important notes on python is that it is an interpreted and dynamically typed language. Python itself isn't actually something that'll run on your code by default. You'll need to download python to actually be able to use it. When you download python, what happens is it creates a virtual machine layer that creates a layer between the actual code and the platform it runs on. This makes the code highly portable between different platforms. \n",
    "\n",
    "**Important Note**: Before you actually start downloading everything, I highly recommend reading through the rest of the tutorial to figure out what the best way to run python might be for you. First, it's best to read everything and then download things. \n",
    "\n",
    "There are a couple of different ways to run python. Different methods depend on exactly what you'd prefer. \n",
    "\n",
    "### 1. Download it onto your local machine\n",
    "\n",
    "Your 'local' machine is the actual computer you're running everything on. This is the physical computer with no other layers on it. Downloading python on your local device means that you're actually running python. When you download python, it will be able to anywhere on your computer and you'll be able to your computer's already downloaded tools to interact with Python (for example the command line and shell will be able to be used to interact with Python).  \n",
    "\n",
    "The official Python website is: https://www.python.org/\n",
    "\n",
    "To download Python, go to: https://www.python.org/downloads/\n",
    "\n",
    "**Highly recommend** downloading an older version of Python (namely Python 3.7 or Python 3.8). The newer versions have numerous issues that have not been fixed so it is often best to use the older versions that do not run across those issues.\n",
    "\n",
    "Once you have press download on the website for the correct Python, you'll recieve a file that you'll need to run in order to run.\n",
    "\n",
    "This will download Python on your local computer and you can use your shell to even interact with Python. One important thing to keep into mind is that this may not be the best solution for everyone, especially if you want to make sure you're not downloading a lot of stuff onto your computer. If you'd prefer to not download everything onto your own computer, you can look into downloading \n",
    "\n",
    "#### Potential Issues:\n",
    "- A major potential issue if you downloaded Python but it's still not running is that may not be set as PATH. Scroll down below to see how to test it out. If you installed it but it's not working at all, take a look at your PATH variables. Take a look at this to figure out the fix: https://datatofish.com/add-python-to-windows-path/ \n",
    "\n",
    "### 2. Using Anaconda\n",
    "We'll go a bit more into Anaconda later on but this will go over the details on how to download Python using it. The biggest reason to use Anaconda is it enables us to use Conda which is really good for package management and creating virtual environments. Furthermore, Anaconda comes with Spyder as well as has numerous Python data science packages. Spyder is a good way to interact with Python and is a good alternative to VS Code.\n",
    "\n",
    "To learn more about it and download it, go to: https://www.anaconda.com/\n",
    "\n",
    "This may lead to some really similar issues as running Python on your local device. \n",
    "\n",
    "\n",
    "### 3. Using Google Colab\n",
    "Colab may be the easiest way to run Python as it runs on the browser and requires no download. The biggest thing is that when we close our session, nothing is saved.\n",
    "\n",
    "To learn more about Colab, go to: https://colab.research.google.com/. Colab is a very powerful resource and it's important to know that everytime you run it, you'll need to redownload all the libraries for it.\n",
    "\n",
    "### Testing Python Installation\n",
    "To see if Python is working properly, you need to open up a shell, or command prompt and then simply run:\n",
    "\n",
    "``` shell\n",
    "python\n",
    "```\n",
    "\n",
    "This should simply return something that shows you the python version you have and change your shell to show something that looks like:\n",
    "``` shell\n",
    ">>> \n",
    "```\n",
    "And you will be able to enter in python code from there. Try running:\n",
    "``` Py\n",
    "print('Hello World!')\n",
    "```\n",
    "\n",
    "and it should say `Hello World`. If you're using Jupyter Notebook, you can try running the cells and seeing if it works."
   ]
  },
  {
   "cell_type": "code",
   "execution_count": null,
   "metadata": {},
   "outputs": [],
   "source": [
    "#If running this cell results in it printing out 'Hello World!', you've succesfully managed to run Python!\n",
    "print('Hello World!')"
   ]
  },
  {
   "cell_type": "markdown",
   "metadata": {},
   "source": [
    "**This tutorial will not teach you Python**. To learn Python the best recommendation is to pick a tutorial and stick to it as many python tutorials are available and they all accomplish pretty much the same thing. A good recommendation is to search up any course and simply complete it to learn the very basic syntax of Python. It's also a good idea to learn a bit more about the data types and algorithms in Python."
   ]
  },
  {
   "cell_type": "markdown",
   "metadata": {},
   "source": [
    "----"
   ]
  },
  {
   "cell_type": "markdown",
   "metadata": {},
   "source": [
    "## Jupyter Notebook"
   ]
  },
  {
   "cell_type": "markdown",
   "metadata": {},
   "source": [
    "What you're seeing right now is a Jupyter Notebook. This combines both markdown and python to make an interactive file that can easily run Python code as individual cells. This can be highly beneficial for managing your code, keeping it clean and adding additional notes to it. Majority of this code will be run in Jupyter Notebooks.\n",
    "\n",
    "\n",
    "To learn a bit more about how Jupyter Notebooks work:\n",
    "\n",
    "https://jupyter-notebook-beginner-guide.readthedocs.io/en/latest/what_is_jupyter.html\n",
    "\n",
    "\n",
    "\n",
    "Using Jupyter Notebooks with Visual Studio Code:\n",
    "\n",
    "https://code.visualstudio.com/docs/datascience/jupyter-notebooks\n",
    "\n",
    "To create a new jupyer notebook, you just need to create a new file with the `.ipynb` file name extension.\n",
    "\n",
    "**Note**: If you're using Google Colab, it's already in the format of a jupyter notebook.\n",
    "\n"
   ]
  },
  {
   "cell_type": "markdown",
   "metadata": {},
   "source": [
    "---"
   ]
  },
  {
   "cell_type": "markdown",
   "metadata": {},
   "source": [
    "## Google Colab vs Local Development"
   ]
  },
  {
   "cell_type": "markdown",
   "metadata": {},
   "source": [
    "Google Colab lets you run Python in your browser. It requires no download and setting up is very quick and efficient. It also provides limited access to GPUs to speed up ML algorithms which can come in really handy for training your neural networks. An important note is then everytime you disconnect from your Google Colab connection, the notebook will be reset which means any files and libraries imported into Colab will be deleted. This means everytime you use Colab, you'll need to redownload everything you need to run your programs. Google Colab is also only capable of running Python and some functionalities of Python may be somewhat limited.\n",
    "\n",
    "\n",
    "With local development you get a lot more control of your development environment. You get to choose which code editor you like as well as have more options for your code. An important thing to consider about local development is whether you want to download Python globally (you can access it anywhere on your computer by default) or you can download it within a virtual environment (which is easier to transfer and replicate on other devices). \n",
    "\n",
    "\n",
    "Regardless of what you use, it's a good idea to keep track of what libraries and which versions you use when you develop. Often, this is done through a requirements.txt file that contains the library name and version of the libraries in order to make sure the code is easy to distribute and share."
   ]
  },
  {
   "cell_type": "markdown",
   "metadata": {},
   "source": [
    "---"
   ]
  },
  {
   "cell_type": "markdown",
   "metadata": {},
   "source": [
    "## Code Editors and IDEs"
   ]
  },
  {
   "cell_type": "markdown",
   "metadata": {},
   "source": [
    "Code editors, such as visual studio code have fairly complex tools and functionalities designed to speed up code editing and make it easier. Code editors often have functions that will automatically help you with your code such as auto-indendation, auto-completion and brace matching. There are many different code editors to choose from including Atom, Sublime Text, Vim, and, as mentioned prior, visual studio code.\n",
    "\n",
    "**For our purposes Visual Studio Code is recommended.**\n",
    "\n",
    "IDEs or integrated development environments are tools that help to provide a complete environment for creating software with all the required tools. They provide all the necessary tools required to ensure the code will work and some IDEs are dedicated specifically to one programming language to provide all tools for that language. Visual Studio and PyCharm are examples of IDEs."
   ]
  },
  {
   "cell_type": "markdown",
   "metadata": {},
   "source": [
    "---"
   ]
  },
  {
   "cell_type": "markdown",
   "metadata": {},
   "source": [
    "## Conda"
   ]
  },
  {
   "cell_type": "markdown",
   "metadata": {},
   "source": []
  },
  {
   "cell_type": "markdown",
   "metadata": {},
   "source": [
    "---"
   ]
  },
  {
   "cell_type": "markdown",
   "metadata": {},
   "source": [
    "## Virtual Environments"
   ]
  },
  {
   "cell_type": "markdown",
   "metadata": {},
   "source": []
  },
  {
   "cell_type": "markdown",
   "metadata": {},
   "source": [
    "---"
   ]
  },
  {
   "cell_type": "markdown",
   "metadata": {},
   "source": [
    "## Pip"
   ]
  },
  {
   "cell_type": "markdown",
   "metadata": {},
   "source": [
    "Pip is the package installer for Python. It allows you to download packages, which are essentially codes that other people have created. \n",
    "\n",
    "https://pypi.org/project/pip/\n"
   ]
  },
  {
   "cell_type": "markdown",
   "metadata": {},
   "source": [
    "--- "
   ]
  },
  {
   "cell_type": "markdown",
   "metadata": {},
   "source": [
    "## Numpy"
   ]
  },
  {
   "cell_type": "markdown",
   "metadata": {},
   "source": []
  },
  {
   "cell_type": "markdown",
   "metadata": {},
   "source": [
    "--- "
   ]
  },
  {
   "cell_type": "markdown",
   "metadata": {},
   "source": [
    "## Matplotlib"
   ]
  },
  {
   "cell_type": "markdown",
   "metadata": {},
   "source": []
  },
  {
   "cell_type": "markdown",
   "metadata": {},
   "source": [
    "--- "
   ]
  },
  {
   "cell_type": "markdown",
   "metadata": {},
   "source": [
    "## Pandas"
   ]
  },
  {
   "cell_type": "markdown",
   "metadata": {},
   "source": []
  },
  {
   "cell_type": "markdown",
   "metadata": {},
   "source": [
    "--- "
   ]
  },
  {
   "cell_type": "markdown",
   "metadata": {},
   "source": [
    "## Scipy"
   ]
  },
  {
   "cell_type": "markdown",
   "metadata": {},
   "source": []
  },
  {
   "cell_type": "markdown",
   "metadata": {},
   "source": [
    "--- "
   ]
  },
  {
   "cell_type": "markdown",
   "metadata": {},
   "source": [
    "## PyTorch"
   ]
  },
  {
   "cell_type": "markdown",
   "metadata": {},
   "source": []
  },
  {
   "cell_type": "markdown",
   "metadata": {},
   "source": [
    "---"
   ]
  },
  {
   "cell_type": "markdown",
   "metadata": {},
   "source": [
    "## TensorFlow"
   ]
  },
  {
   "cell_type": "markdown",
   "metadata": {},
   "source": []
  },
  {
   "cell_type": "markdown",
   "metadata": {},
   "source": [
    "---"
   ]
  },
  {
   "cell_type": "markdown",
   "metadata": {},
   "source": [
    "## OpenCV"
   ]
  },
  {
   "cell_type": "markdown",
   "metadata": {},
   "source": []
  }
 ],
 "metadata": {
  "kernelspec": {
   "display_name": "Python 3.9.0 64-bit",
   "language": "python",
   "name": "python3"
  },
  "language_info": {
   "codemirror_mode": {
    "name": "ipython",
    "version": 3
   },
   "file_extension": ".py",
   "mimetype": "text/x-python",
   "name": "python",
   "nbconvert_exporter": "python",
   "pygments_lexer": "ipython3",
   "version": "3.9.0"
  },
  "orig_nbformat": 4,
  "vscode": {
   "interpreter": {
    "hash": "81794d4967e6c3204c66dcd87b604927b115b27c00565d3d43f05ba2f3a2cb0d"
   }
  }
 },
 "nbformat": 4,
 "nbformat_minor": 2
}
