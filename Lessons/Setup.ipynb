{
 "cells": [
  {
   "cell_type": "markdown",
   "metadata": {},
   "source": [
    "# Set Up"
   ]
  },
  {
   "cell_type": "markdown",
   "metadata": {},
   "source": [
    "If this is your first time using anything related to deep learning and Python, this will be a good notebook to walk through everything necessary for this set-up. It goes from the very basics of setting up Python to setting up the DL libaries."
   ]
  },
  {
   "cell_type": "markdown",
   "metadata": {},
   "source": [
    "---"
   ]
  },
  {
   "cell_type": "markdown",
   "metadata": {},
   "source": [
    "## Python"
   ]
  },
  {
   "cell_type": "markdown",
   "metadata": {},
   "source": [
    "Python is highly important to data science and machine learning. It has many different usages in sciences and here we'll be primarily focusing on using it for machine learning purposes. \n",
    "\n",
    "A few important notes on python is that it is an interpreted and dynamically typed language. Python itself isn't actually something that'll run on your code by default. You'll need to download python to actually be able to use it. When you download python, what happens is it creates a virtual machine layer that creates a layer between the actual code and the platform it runs on. This makes the code highly portable between different platforms. \n",
    "\n",
    "**Important Note**: Before you actually start downloading everything, I highly recommend reading through the rest of the tutorial to figure out what the best way to run python might be for you. First, it's best to read everything and then download things. \n",
    "\n",
    "There are a couple of different ways to run python. Different methods depend on exactly what you'd prefer. \n",
    "\n",
    "### 1. Download it onto your local machine\n",
    "\n",
    "Your 'local' machine is the actual computer you're running everything on. This is the physical computer with no other layers on it. Downloading python on your local device means that you're actually running python. When you download python, it will be able to anywhere on your computer and you'll be able to your computer's already downloaded tools to interact with Python (for example the command line and shell will be able to be used to interact with Python).  \n",
    "\n",
    "The official Python website is: https://www.python.org/\n",
    "\n",
    "To download Python, go to: https://www.python.org/downloads/\n",
    "\n",
    "**Highly recommend** downloading an older version of Python (namely Python 3.7 or Python 3.8). The newer versions have numerous issues that have not been fixed so it is often best to use the older versions that do not run across those issues.\n",
    "\n",
    "Once you have press download on the website for the correct Python, you'll recieve a file that you'll need to run in order to run.\n",
    "\n",
    "This will download Python on your local computer and you can use your shell to even interact with Python. One important thing to keep into mind is that this may not be the best solution for everyone, especially if you want to make sure you're not downloading a lot of stuff onto your computer. If you'd prefer to not download everything onto your own computer, you can look into downloading \n",
    "\n",
    "#### Potential Issues:\n",
    "- A major potential issue if you downloaded Python but it's still not running is that may not be set as PATH. Scroll down below to see how to test it out. If you installed it but it's not working at all, take a look at your PATH variables. Take a look at this to figure out the fix: https://datatofish.com/add-python-to-windows-path/ \n",
    "\n",
    "### 2. Using Anaconda\n",
    "We'll go a bit more into Anaconda later on but this will go over the details on how to download Python using it. The biggest reason to use Anaconda is it enables us to use Conda which is really good for package management and creating virtual environments. Furthermore, Anaconda comes with Spyder as well as has numerous Python data science packages. Spyder is a good way to interact with Python and is a good alternative to VS Code.\n",
    "\n",
    "To learn more about it and download it, go to: https://www.anaconda.com/\n",
    "\n",
    "This may lead to some really similar issues as running Python on your local device. \n",
    "\n",
    "\n",
    "### 3. Using Google Colab\n",
    "Colab may be the easiest way to run Python as it runs on the browser and requires no download. The biggest thing is that when we close our session, nothing is saved.\n",
    "\n",
    "To learn more about Colab, go to: https://colab.research.google.com/. Colab is a very powerful resource and it's important to know that everytime you run it, you'll need to redownload all the libraries for it.\n",
    "\n",
    "### Testing Python Installation\n",
    "To see if Python is working properly, you need to open up a shell, or command prompt and then simply run:\n",
    "\n",
    "``` shell\n",
    "python\n",
    "```\n",
    "\n",
    "This should simply return something that shows you the python version you have and change your shell to show something that looks like:\n",
    "``` shell\n",
    ">>> \n",
    "```\n",
    "And you will be able to enter in python code from there. Try running:\n",
    "``` Py\n",
    "print('Hello World!')\n",
    "```\n",
    "\n",
    "and it should say `Hello World`. If you're using Jupyter Notebook, you can try running the cells and seeing if it works."
   ]
  },
  {
   "cell_type": "code",
   "execution_count": null,
   "metadata": {},
   "outputs": [],
   "source": [
    "#If running this cell results in it printing out 'Hello World!', you've succesfully managed to run Python!\n",
    "print('Hello World!')"
   ]
  },
  {
   "cell_type": "markdown",
   "metadata": {},
   "source": [
    "**This tutorial will not teach you Python**. To learn Python the best recommendation is to pick a tutorial and stick to it as many python tutorials are available and they all accomplish pretty much the same thing. A good recommendation is to search up any course and simply complete it to learn the very basic syntax of Python. It's also a good idea to learn a bit more about the data types and algorithms in Python."
   ]
  },
  {
   "cell_type": "markdown",
   "metadata": {},
   "source": [
    "----"
   ]
  },
  {
   "cell_type": "markdown",
   "metadata": {},
   "source": [
    "## Jupyter Notebook"
   ]
  },
  {
   "cell_type": "markdown",
   "metadata": {},
   "source": [
    "What you're seeing right now is a Jupyter Notebook. This combines both markdown and python to make an interactive file that can easily run Python code as individual cells. This can be highly beneficial for managing your code, keeping it clean and adding additional notes to it. Majority of this code will be run in Jupyter Notebooks.\n",
    "\n",
    "\n",
    "To learn a bit more about how Jupyter Notebooks work:\n",
    "\n",
    "https://jupyter-notebook-beginner-guide.readthedocs.io/en/latest/what_is_jupyter.html\n",
    "\n",
    "\n",
    "\n",
    "Using Jupyter Notebooks with Visual Studio Code:\n",
    "\n",
    "https://code.visualstudio.com/docs/datascience/jupyter-notebooks\n",
    "\n",
    "To create a new jupyer notebook, you just need to create a new file with the `.ipynb` file name extension.\n",
    "\n",
    "**Note**: If you're using Google Colab, it's already in the format of a jupyter notebook.\n",
    "\n"
   ]
  },
  {
   "cell_type": "markdown",
   "metadata": {},
   "source": [
    "---"
   ]
  },
  {
   "cell_type": "markdown",
   "metadata": {},
   "source": [
    "## Google Colab vs Local Development"
   ]
  },
  {
   "cell_type": "markdown",
   "metadata": {},
   "source": [
    "Google Colab lets you run Python in your browser. It requires no download and setting up is very quick and efficient. It also provides limited access to GPUs to speed up ML algorithms which can come in really handy for training your neural networks. An important note is then everytime you disconnect from your Google Colab connection, the notebook will be reset which means any files and libraries imported into Colab will be deleted. This means everytime you use Colab, you'll need to redownload everything you need to run your programs. Google Colab is also only capable of running Python and some functionalities of Python may be somewhat limited.\n",
    "\n",
    "\n",
    "With local development you get a lot more control of your development environment. You get to choose which code editor you like as well as have more options for your code. An important thing to consider about local development is whether you want to download Python globally (you can access it anywhere on your computer by default) or you can download it within a virtual environment (which is easier to transfer and replicate on other devices). \n",
    "\n",
    "\n",
    "Regardless of what you use, it's a good idea to keep track of what libraries and which versions you use when you develop. Often, this is done through a requirements.txt file that contains the library name and version of the libraries in order to make sure the code is easy to distribute and share."
   ]
  },
  {
   "cell_type": "markdown",
   "metadata": {},
   "source": [
    "---"
   ]
  },
  {
   "cell_type": "markdown",
   "metadata": {},
   "source": [
    "## Code Editors and IDEs"
   ]
  },
  {
   "cell_type": "markdown",
   "metadata": {},
   "source": [
    "Code editors, such as visual studio code have fairly complex tools and functionalities designed to speed up code editing and make it easier. Code editors often have functions that will automatically help you with your code such as auto-indendation, auto-completion and brace matching. There are many different code editors to choose from including Atom, Sublime Text, Vim, and, as mentioned prior, visual studio code.\n",
    "\n",
    "**For our purposes Visual Studio Code is recommended.**\n",
    "\n",
    "IDEs or integrated development environments are tools that help to provide a complete environment for creating software with all the required tools. They provide all the necessary tools required to ensure the code will work and some IDEs are dedicated specifically to one programming language to provide all tools for that language. Visual Studio and PyCharm are examples of IDEs."
   ]
  },
  {
   "cell_type": "markdown",
   "metadata": {},
   "source": [
    "---"
   ]
  },
  {
   "cell_type": "markdown",
   "metadata": {},
   "source": [
    "## Conda"
   ]
  },
  {
   "cell_type": "markdown",
   "metadata": {},
   "source": [
    "Conda is another package manager much like pip. They both are used to install libraries and can be used for many of the same libraries. They both are different tools that have many similar functionalities. Conda is a very good tool to use for virutal environments and version control. Next, you'll see us Conda to create a virtual environment. \n",
    "\n",
    "To learn more about Conda, go to the following:\n",
    "https://docs.conda.io/en/latest/"
   ]
  },
  {
   "cell_type": "markdown",
   "metadata": {},
   "source": [
    "---"
   ]
  },
  {
   "cell_type": "markdown",
   "metadata": {},
   "source": [
    "## Virtual Environments"
   ]
  },
  {
   "cell_type": "markdown",
   "metadata": {},
   "source": [
    "Virtual environments are a way to keep everything contained within a controlled, reproduceable location. They create an isolated instance which can be run without the rest of the computer. Virtual environments require you to download everything you need within them and this data will be saved in order to be transferable. \n",
    "\n",
    "We'll be utilizing Conda to manage our environment. To learn more go to:\n",
    "\n",
    "https://conda.io/projects/conda/en/latest/user-guide/tasks/manage-environments.html"
   ]
  },
  {
   "cell_type": "markdown",
   "metadata": {},
   "source": [
    "To start off, check if you have conda installed:\n",
    "\n",
    "``` powershell\n",
    "conda\n",
    "```\n",
    "\n",
    "If Conda is installed, we'll create an environment called `aiclub` with python 3.9:\n",
    "\n",
    "``` powershell\n",
    "conda create --name aiclub python=3.9\n",
    "```\n",
    "\n",
    "From there, we can access the environment using:\n",
    "\n",
    "``` powershell\n",
    "conda activate aiclub\n",
    "```\n",
    "\n",
    "That will send you into the aiclub environment and you'll be able to download everything in there.\n",
    "\n",
    "To exit, you simply do:\n",
    "\n",
    "``` powershell\n",
    "conda deactivate\n",
    "```"
   ]
  },
  {
   "cell_type": "markdown",
   "metadata": {},
   "source": [
    "---"
   ]
  },
  {
   "cell_type": "markdown",
   "metadata": {},
   "source": [
    "## Pip"
   ]
  },
  {
   "cell_type": "markdown",
   "metadata": {},
   "source": [
    "Pip is the package installer for Python. It allows you to download packages, which are essentially codes that other people have created. \n",
    "\n",
    "https://pypi.org/project/pip/\n"
   ]
  },
  {
   "cell_type": "markdown",
   "metadata": {},
   "source": [
    "--- "
   ]
  },
  {
   "cell_type": "markdown",
   "metadata": {},
   "source": [
    "## Numpy"
   ]
  },
  {
   "attachments": {},
   "cell_type": "markdown",
   "metadata": {},
   "source": [
    "Numpy is a python library for working with arrays and it is highly important for linear algebra, matrices and many other numerical operations. It's universally used for engineering and science. To learn more go to https://numpy.org/. To download it, you can use either conda or pip:\n",
    "\n",
    "``` powershell\n",
    "pip install numpy\n",
    "```\n",
    "\n",
    "``` powershell\n",
    "conda install numpy\n",
    "```"
   ]
  },
  {
   "attachments": {},
   "cell_type": "markdown",
   "metadata": {},
   "source": [
    "#### Working with Numpy:"
   ]
  },
  {
   "cell_type": "code",
   "execution_count": null,
   "metadata": {},
   "outputs": [],
   "source": [
    "import numpy as np\n",
    "print(np.__version__)"
   ]
  },
  {
   "attachments": {},
   "cell_type": "markdown",
   "metadata": {},
   "source": [
    "In numpy we make arrays which can contain a variety of information. Numpy arrays are memory-efficient containers that provide fast numerical operations."
   ]
  },
  {
   "cell_type": "code",
   "execution_count": null,
   "metadata": {},
   "outputs": [],
   "source": [
    "# A 1-d array\n",
    "a = np.array([0, 1, 2, 3])\n",
    "a"
   ]
  },
  {
   "cell_type": "code",
   "execution_count": null,
   "metadata": {},
   "outputs": [],
   "source": [
    "# A 2-d array\n",
    "b = np.array([[0, 1, 2], [3, 4, 5]])\n",
    "b, b.ndim, b.shape"
   ]
  },
  {
   "cell_type": "code",
   "execution_count": null,
   "metadata": {},
   "outputs": [],
   "source": [
    "# A 3-d array\n",
    "c = np.array([[[1], [2]], [[3], [4]]])\n",
    "c, c.ndim, c.shape"
   ]
  },
  {
   "attachments": {},
   "cell_type": "markdown",
   "metadata": {},
   "source": [
    "In the last 3 examples, we manually created numpy arrays. We can also create numpy arrays using functions."
   ]
  },
  {
   "cell_type": "code",
   "execution_count": null,
   "metadata": {},
   "outputs": [],
   "source": [
    "# Evenly spaced:\n",
    "a = np.arrange(10)\n",
    "b = np.arrange(1, 9, 2)\n",
    "a, b"
   ]
  },
  {
   "cell_type": "code",
   "execution_count": null,
   "metadata": {},
   "outputs": [],
   "source": [
    "# By a number of points\n",
    "c = np.linspace(0, 1, 6)   # start, end, num-points\n",
    "c"
   ]
  },
  {
   "cell_type": "code",
   "execution_count": null,
   "metadata": {},
   "outputs": [],
   "source": [
    "# Common arrays\n",
    "a = np.ones((3,3))\n",
    "b = np.zeros((2,3))\n",
    "c = np.eye(3)\n",
    "d = np.diag(np.array([1,2,3,4]))\n",
    "a, b, c, d"
   ]
  },
  {
   "cell_type": "code",
   "execution_count": null,
   "metadata": {},
   "outputs": [],
   "source": [
    "# Random\n",
    "a = np.random.rand(4)       # uniform in [0, 1]\n",
    "b = np.random.randn(4)      # Gaussian\n",
    "np.random.seed(1234)        # Setting the random seed"
   ]
  },
  {
   "attachments": {},
   "cell_type": "markdown",
   "metadata": {},
   "source": [
    "When working with numpy arrays, it is important to know how to index and slice them. The items of an array can be accessed and assigned to the same way as other Python sequences (eg lists):"
   ]
  },
  {
   "cell_type": "code",
   "execution_count": null,
   "metadata": {},
   "outputs": [],
   "source": [
    "a = np.array(10)\n",
    "print(a)\n",
    "a[0], a[1], a[-1]"
   ]
  },
  {
   "attachments": {},
   "cell_type": "markdown",
   "metadata": {},
   "source": [
    "We can also easily reverse sequences as normal lists:"
   ]
  },
  {
   "cell_type": "code",
   "execution_count": null,
   "metadata": {},
   "outputs": [],
   "source": [
    "a[::-1]"
   ]
  },
  {
   "attachments": {},
   "cell_type": "markdown",
   "metadata": {},
   "source": [
    "And for multidimensional arrays, indices are tuples of integers"
   ]
  },
  {
   "cell_type": "code",
   "execution_count": null,
   "metadata": {},
   "outputs": [],
   "source": [
    "a = np.diag(np.arange(3))\n",
    "print(a)\n",
    "print(a[1, 1])\n",
    "a[2, 1] = 10 # third line, second column\n",
    "print(a)\n",
    "print(a[1])"
   ]
  },
  {
   "attachments": {},
   "cell_type": "markdown",
   "metadata": {},
   "source": [
    "We can also slice numpy arrays like we would slice other Python sequences. Note that the list index is not included in slicing:"
   ]
  },
  {
   "cell_type": "code",
   "execution_count": null,
   "metadata": {},
   "outputs": [],
   "source": [
    "a = np.arange(10)\n",
    "print(a)\n",
    "a[2:9:3] # [start:end:step]\n",
    "print(a[:4])"
   ]
  },
  {
   "attachments": {},
   "cell_type": "markdown",
   "metadata": {},
   "source": [
    "By default, start is 0, end is the last and step is 1."
   ]
  },
  {
   "attachments": {},
   "cell_type": "markdown",
   "metadata": {},
   "source": [
    "Slicing creates a view on the original array which means it is not copying the original array in memory. It's simply viewing the original array with the newly defined index. You can use `np.may_share_memory()` to check if two arrays share the same memory block. Note however, that this uses heuristics and may give you false positives. This behaviour allows for the computer to save both memory and time."
   ]
  },
  {
   "attachments": {},
   "cell_type": "markdown",
   "metadata": {},
   "source": [
    "Numpy arrays can be indexed with slices but also with boolean or integer arrays (masks) which is called fancy indexing and this creates copies, not views."
   ]
  },
  {
   "cell_type": "code",
   "execution_count": null,
   "metadata": {},
   "outputs": [],
   "source": [
    "np.random.seed(20)\n",
    "a = np.random.randint(0, 21, 15)\n",
    "print(a)\n",
    "\n",
    "print((a % 3 == 0))\n",
    "mask = (a % 3 == 0)\n",
    "extract_from_a = a[mask]\n",
    "extract_from_a"
   ]
  },
  {
   "attachments": {},
   "cell_type": "markdown",
   "metadata": {},
   "source": [
    "Indexing with a mask can be very useful to assign a new value to a sub-array"
   ]
  },
  {
   "cell_type": "code",
   "execution_count": null,
   "metadata": {},
   "outputs": [],
   "source": [
    "a[a % 3 == 0] = -1\n",
    "a"
   ]
  },
  {
   "attachments": {},
   "cell_type": "markdown",
   "metadata": {},
   "source": [
    "With ipython and jupyter notebooks, we can enable interactive plots using `%matplotlib inline`. The `inline` is important for the notebook so the plots are displayed in the notebook and not in a new window."
   ]
  },
  {
   "attachments": {},
   "cell_type": "markdown",
   "metadata": {},
   "source": [
    "Numpy also supports a variety of elementwise operations. Basic ones include scalar addition and elementwise arithmetic operators, all of which are faster in numpy than if you did them in pure python."
   ]
  },
  {
   "cell_type": "code",
   "execution_count": null,
   "metadata": {},
   "outputs": [],
   "source": [
    "a = np.array([1,2,3,4])\n",
    "a + 1, 2 ** a"
   ]
  },
  {
   "cell_type": "code",
   "execution_count": null,
   "metadata": {},
   "outputs": [],
   "source": [
    "b = np.ones(4) +  1\n",
    "print(a - b)\n",
    "print(a * b)\n",
    "j = np.arange(5)\n",
    "2 ** (j + 1) - j"
   ]
  },
  {
   "attachments": {},
   "cell_type": "markdown",
   "metadata": {},
   "source": [
    "Note that array multiplication is not matrix multiplication. so `np.array() * np.array()` does not result in matrix multiplication. You can use `np.array().dot(np.array())` for that."
   ]
  },
  {
   "cell_type": "markdown",
   "metadata": {},
   "source": [
    "--- "
   ]
  },
  {
   "cell_type": "markdown",
   "metadata": {},
   "source": [
    "## Matplotlib"
   ]
  },
  {
   "cell_type": "markdown",
   "metadata": {},
   "source": [
    "Matplotlib is a library used for creating graphs and plots in python.\n",
    "\n",
    "To install do:\n",
    "\n",
    "\n",
    "``` powershell\n",
    "pip install matplotlib\n",
    "```\n",
    "\n",
    "or through conda:\n",
    "\n",
    "``` powershell\n",
    "conda install -c conda-forge matplotlib\n",
    "```\n",
    "\n",
    "\n",
    "We can then use it to create some plots such as:"
   ]
  },
  {
   "cell_type": "code",
   "execution_count": null,
   "metadata": {},
   "outputs": [],
   "source": [
    "import matplotlib.pyplot as plt\n",
    "plt.plot([1, 2, 3, 4])\n",
    "plt.ylabel('some numbers')\n",
    "plt.show()"
   ]
  },
  {
   "attachments": {},
   "cell_type": "markdown",
   "metadata": {},
   "source": [
    "In matplotlib, we can make a basic 1d plot using the following:"
   ]
  },
  {
   "cell_type": "code",
   "execution_count": null,
   "metadata": {},
   "outputs": [],
   "source": [
    "x = np.linspace(0, 3, 20)\n",
    "y = np.linspace(0, 9, 20)\n",
    "plt.plot(x, y)\n",
    "plt.plot(x, y, 'o')\n",
    "plt.show()"
   ]
  },
  {
   "attachments": {},
   "cell_type": "markdown",
   "metadata": {},
   "source": [
    "We can also make more complicated things like a scatterplot with multiple different colors"
   ]
  },
  {
   "cell_type": "code",
   "execution_count": null,
   "metadata": {},
   "outputs": [],
   "source": [
    "n = 1024\n",
    "X = np.random.normal(0, 1, n)\n",
    "Y = np.random.normal(0, 1, n)\n",
    "T = np.arctan2(Y, X)\n",
    "\n",
    "plt.axes([0.025, 0.025, 0.95, 0.95])\n",
    "plt.scatter(X, Y, s=75, c=T, alpha=.5)\n",
    "\n",
    "plt.xlim(-1.5, 1.5)\n",
    "plt.xticks([])\n",
    "plt.ylim(-1.5, 1.5)\n",
    "plt.yticks([])\n",
    "\n",
    "plt.show()"
   ]
  },
  {
   "attachments": {},
   "cell_type": "markdown",
   "metadata": {},
   "source": [
    "Matplotlib is very very robust and has a variety of different options at your disposal for making graphs."
   ]
  },
  {
   "cell_type": "markdown",
   "metadata": {},
   "source": [
    "--- "
   ]
  },
  {
   "cell_type": "markdown",
   "metadata": {},
   "source": [
    "## Pandas"
   ]
  },
  {
   "cell_type": "markdown",
   "metadata": {},
   "source": [
    "Pandas is a powerful data analysis library and it's highly helpful for working with data and datasets. \n",
    "\n",
    "To download it:\n",
    "\n",
    "``` powershell\n",
    "pip install pandas\n",
    "```\n",
    "\n",
    "or through conda:\n",
    "\n",
    "``` powershell\n",
    "conda install -c conda-forge pandas\n",
    "```\n"
   ]
  },
  {
   "cell_type": "code",
   "execution_count": null,
   "metadata": {},
   "outputs": [],
   "source": [
    "import pandas as pd\n",
    "\n",
    "#We'll also be using numpy as well here:\n",
    "import numpy as np"
   ]
  },
  {
   "cell_type": "code",
   "execution_count": null,
   "metadata": {},
   "outputs": [],
   "source": [
    "df2 = pd.DataFrame(\n",
    "    {\n",
    "        \"A\": 1.0,\n",
    "        \"B\": pd.Timestamp(\"20130102\"),\n",
    "        \"C\": pd.Series(1, index=list(range(4)), dtype=\"float32\"),\n",
    "        \"D\": np.array([3] * 4, dtype=\"int32\"),\n",
    "        \"E\": pd.Categorical([\"test\", \"train\", \"test\", \"train\"]),\n",
    "        \"F\": \"foo\",\n",
    "   }\n",
    ")"
   ]
  },
  {
   "cell_type": "code",
   "execution_count": null,
   "metadata": {},
   "outputs": [],
   "source": [
    "df2.dtypes"
   ]
  },
  {
   "cell_type": "markdown",
   "metadata": {},
   "source": [
    "--- "
   ]
  },
  {
   "cell_type": "markdown",
   "metadata": {},
   "source": [
    "## Scipy"
   ]
  },
  {
   "attachments": {},
   "cell_type": "markdown",
   "metadata": {},
   "source": [
    "Another thing we'll be making use of is SciPy. SciPy is a free and open-source Python library used for scientific computing and technical computing. SciPy contains modules for optimization, linear algebra, integration, interpolation, special functions, FFT, signal and image processing, ODE solvers and other tasks common in science and engineering.\n",
    "\n",
    "We download it as:\n",
    "\n",
    "``` bash\n",
    "pip install scipy\n",
    "```\n",
    "\n",
    "``` bash\n",
    "conda install scipy\n",
    "```"
   ]
  },
  {
   "attachments": {},
   "cell_type": "markdown",
   "metadata": {},
   "source": [
    "There are a variety of different uses for scipy but a couple of key ones are noted down in the following table\n",
    "\n",
    "| Package | Usage | \n",
    "| --- | --- |\n",
    "scipy.cluster |\tVector quantization / Kmeans\n",
    "scipy.constants\t| Physical and mathematical constants\n",
    "scipy.fftpack | \tFourier transform\n",
    "scipy.integrate\t| Integration routines\n",
    "scipy.interpolate\t| Interpolation\n",
    "scipy.io\t| Data input and output\n",
    "scipy.linalg\t| Linear algebra routines\n",
    "scipy.ndimage |\tn-dimensional image package\n",
    "scipy.odr | \tOrthogonal distance regression\n",
    "scipy.optimize |\tOptimization\n",
    "scipy.signal |\tSignal processing\n",
    "scipy.sparse | \tSparse matrices\n",
    "scipy.spatial |\tSpatial data structures and algorithms\n",
    "scipy.special |\tAny special mathematical functions\n",
    "scipy.stats |\tStatistics"
   ]
  },
  {
   "cell_type": "markdown",
   "metadata": {},
   "source": [
    "--- "
   ]
  },
  {
   "cell_type": "markdown",
   "metadata": {},
   "source": [
    "## PyTorch"
   ]
  },
  {
   "attachments": {},
   "cell_type": "markdown",
   "metadata": {},
   "source": [
    "PyTorch is a major thing we'll be focusing on. PyTorch is a library designed for machine learning. It's a highly important library to understand and it contains plenty of important tools required on the machine learning journey. \n",
    "\n",
    "\n",
    "\n",
    "To download, go to: https://pytorch.org/ and select the version that works best.\n",
    "\n",
    "\n",
    "You ideally want PyTorch to work with your computer's GPU so if you have an NVIDIA GPU, try to get PyTorch to recognize that and run on GPU."
   ]
  },
  {
   "cell_type": "code",
   "execution_count": null,
   "metadata": {},
   "outputs": [],
   "source": [
    "import torch"
   ]
  },
  {
   "cell_type": "code",
   "execution_count": null,
   "metadata": {},
   "outputs": [],
   "source": [
    "torch.__version__, torch.cuda.is_available(), torch.version.cuda"
   ]
  },
  {
   "attachments": {},
   "cell_type": "markdown",
   "metadata": {},
   "source": [
    "The following commands will only work if pytorch is compiled with CUDA"
   ]
  },
  {
   "cell_type": "code",
   "execution_count": null,
   "metadata": {},
   "outputs": [],
   "source": [
    "cuda_id = torch.cuda.current_device()"
   ]
  },
  {
   "cell_type": "code",
   "execution_count": null,
   "metadata": {},
   "outputs": [],
   "source": [
    "torch.cuda.current_device(), torch.cuda.get_device_name(cuda_id)"
   ]
  },
  {
   "attachments": {},
   "cell_type": "markdown",
   "metadata": {},
   "source": [
    "Pytorch has many amazing functions to it! Pytorch is an incredible library, containing numerous different helpful tools that make working with machine learning and deep neural networks drastically simpler. For example, tensors are an incredible data type that make working with matrices much faster. Throughout this, you'll become well accustomed to PyTorch. "
   ]
  },
  {
   "cell_type": "markdown",
   "metadata": {},
   "source": [
    "---"
   ]
  },
  {
   "cell_type": "markdown",
   "metadata": {},
   "source": [
    "## TensorFlow"
   ]
  },
  {
   "cell_type": "markdown",
   "metadata": {},
   "source": []
  },
  {
   "cell_type": "markdown",
   "metadata": {},
   "source": [
    "---"
   ]
  },
  {
   "cell_type": "markdown",
   "metadata": {},
   "source": [
    "## OpenCV"
   ]
  },
  {
   "cell_type": "markdown",
   "metadata": {},
   "source": []
  }
 ],
 "metadata": {
  "kernelspec": {
   "display_name": "Python 3",
   "language": "python",
   "name": "python3"
  },
  "language_info": {
   "codemirror_mode": {
    "name": "ipython",
    "version": 3
   },
   "file_extension": ".py",
   "mimetype": "text/x-python",
   "name": "python",
   "nbconvert_exporter": "python",
   "pygments_lexer": "ipython3",
   "version": "3.9.13"
  },
  "orig_nbformat": 4,
  "vscode": {
   "interpreter": {
    "hash": "156b6e445808b07dc40aa5a8e66ccf91c9fbe531dfe1445bc12a4896e0fba728"
   }
  }
 },
 "nbformat": 4,
 "nbformat_minor": 2
}
